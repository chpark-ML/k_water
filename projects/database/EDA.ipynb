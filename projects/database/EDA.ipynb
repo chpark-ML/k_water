{
 "cells": [
  {
   "cell_type": "code",
   "execution_count": 1,
   "metadata": {},
   "outputs": [],
   "source": [
    "import os\n",
    "from pathlib import Path"
   ]
  },
  {
   "cell_type": "code",
   "execution_count": 2,
   "metadata": {},
   "outputs": [],
   "source": [
    "DATA_ROOT_PATH = Path('/data/k_water/dataset')\n",
    "\n",
    "TRAIN_DATA_IMAGE = sorted(DATA_ROOT_PATH.rglob(\"train/train_*.png\"))\n",
    "TEST_DATA_IMAGE = sorted(DATA_ROOT_PATH.rglob(\"test/test_*.png\"))\n",
    "TRAIN_DATA_ANNOT = DATA_ROOT_PATH / \"labels\" / \"train.json\"\n",
    "\n",
    "ANSWER_SAMPLE = DATA_ROOT_PATH / \"labels\" / \"answer_sample.json\""
   ]
  },
  {
   "cell_type": "code",
   "execution_count": 6,
   "metadata": {},
   "outputs": [
    {
     "name": "stdout",
     "output_type": "stream",
     "text": [
      "104875\n",
      "44946\n"
     ]
    }
   ],
   "source": [
    "print(len(TRAIN_DATA_IMAGE))\n",
    "print(len(TEST_DATA_IMAGE))"
   ]
  },
  {
   "cell_type": "code",
   "execution_count": 7,
   "metadata": {},
   "outputs": [
    {
     "data": {
      "text/plain": [
       "PosixPath('/data/k_water/dataset/labels/train.json')"
      ]
     },
     "execution_count": 7,
     "metadata": {},
     "output_type": "execute_result"
    }
   ],
   "source": [
    "TRAIN_DATA_ANNOT"
   ]
  },
  {
   "cell_type": "code",
   "execution_count": null,
   "metadata": {},
   "outputs": [],
   "source": []
  }
 ],
 "metadata": {
  "kernelspec": {
   "display_name": "Python 3",
   "language": "python",
   "name": "python3"
  },
  "language_info": {
   "codemirror_mode": {
    "name": "ipython",
    "version": 3
   },
   "file_extension": ".py",
   "mimetype": "text/x-python",
   "name": "python",
   "nbconvert_exporter": "python",
   "pygments_lexer": "ipython3",
   "version": "3.9.5"
  }
 },
 "nbformat": 4,
 "nbformat_minor": 2
}
